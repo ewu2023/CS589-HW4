{
  "nbformat": 4,
  "nbformat_minor": 0,
  "metadata": {
    "colab": {
      "provenance": [],
      "authorship_tag": "ABX9TyOET8apeOv2ZkHV6L1n6gJ2",
      "include_colab_link": true
    },
    "kernelspec": {
      "name": "python3",
      "display_name": "Python 3"
    },
    "language_info": {
      "name": "python"
    }
  },
  "cells": [
    {
      "cell_type": "markdown",
      "metadata": {
        "id": "view-in-github",
        "colab_type": "text"
      },
      "source": [
        "<a href=\"https://colab.research.google.com/github/ewu2023/CS589-HW4/blob/main/CS589_NeuralNets.ipynb\" target=\"_parent\"><img src=\"https://colab.research.google.com/assets/colab-badge.svg\" alt=\"Open In Colab\"/></a>"
      ]
    },
    {
      "cell_type": "markdown",
      "source": [
        "# Import Packages"
      ],
      "metadata": {
        "id": "7B-JBg83M1ok"
      }
    },
    {
      "cell_type": "code",
      "execution_count": 9,
      "metadata": {
        "id": "WsRlxN3fLmfw"
      },
      "outputs": [],
      "source": [
        "import numpy as np\n",
        "import pandas as pd\n",
        "from scipy.stats import norm"
      ]
    },
    {
      "cell_type": "markdown",
      "source": [
        "# Define Neural Network Class"
      ],
      "metadata": {
        "id": "nOW3NjBRNpsU"
      }
    },
    {
      "cell_type": "code",
      "source": [
        "class NeuralNetwork():\n",
        "    def __init__(self, networkShape, trainData: pd.DataFrame, weights=None):\n",
        "        \"\"\"\n",
        "        Constructor for the neural network class.\n",
        "        \n",
        "        networkShape: A list of integers that contains the number of neurons to use in each layer\n",
        "\n",
        "        trainData: The data set that will be used to train the model\n",
        "\n",
        "        weights: A list of weight matrices for each hidden layer. If initialized to None, the constructor will assign random weights\n",
        "        \"\"\"\n",
        "        self.trainData = trainData\n",
        "\n",
        "        # Instance variable storing weight matrices\n",
        "        self.layers = []\n",
        "        \n",
        "        # Initialize layers\n",
        "        for i in range(len(networkShape) - 1):\n",
        "            # Get the number of neurons in the current and next layers\n",
        "            numCurLayer = networkShape[i] + 1 # Account for neurons + bias term in current layer\n",
        "            numNextLayer = networkShape[i + 1]\n",
        "\n",
        "            # Initialize matrix for the current layer\n",
        "            # Number of rows = number of neurons in layer i + 1\n",
        "            # Number of columns = number of neurons in layer i\n",
        "            layerMatrix = np.zeros(shape=(numNextLayer, numCurLayer))\n",
        "            if weights:\n",
        "                layerMatrix = weights[i]\n",
        "            else:\n",
        "                self._init_matrix(layerMatrix)\n",
        "            \n",
        "            # Append current layer to the list of layers\n",
        "            self.layers.append(layerMatrix)\n",
        "        \n",
        "    def _init_matrix(self, matrix: np.ndarray):\n",
        "        rows, cols = matrix.shape\n",
        "        for i in range(rows):\n",
        "            for j in range(cols):\n",
        "                matrix[i, j] = norm.rvs()"
      ],
      "metadata": {
        "id": "PlC7io6JNYw8"
      },
      "execution_count": 37,
      "outputs": []
    },
    {
      "cell_type": "markdown",
      "source": [
        "Test Neural Net"
      ],
      "metadata": {
        "id": "kxzyGtabHfub"
      }
    },
    {
      "cell_type": "code",
      "source": [
        "d = {'x': [0.13000, 0.42000], 'y': [0.90000, 0.23000]}\n",
        "df = pd.DataFrame(data=d)\n",
        "\n",
        "networkShape = [1, 2, 1]\n",
        "weights = [\n",
        "    np.array(\n",
        "        [[0.40000, 0.10000],\n",
        "         [0.30000, 0.20000]],\n",
        "    ),\n",
        "\n",
        "    np.array([[0.70000, 0.50000, 0.60000]])\n",
        "]\n",
        "\n",
        "network = NeuralNetwork(networkShape, trainData=df, weights=weights)\n",
        "for i, layer in enumerate(network.layers):\n",
        "    print(f\"Layer {i}: {layer}\\n\")"
      ],
      "metadata": {
        "colab": {
          "base_uri": "https://localhost:8080/"
        },
        "id": "8_y6PpYnHiGr",
        "outputId": "2e3d62be-522f-4b83-bef9-1c20b3674f70"
      },
      "execution_count": 39,
      "outputs": [
        {
          "output_type": "stream",
          "name": "stdout",
          "text": [
            "Layer 0: [[0.4 0.1]\n",
            " [0.3 0.2]]\n",
            "\n",
            "Layer 1: [[0.7 0.5 0.6]]\n",
            "\n"
          ]
        }
      ]
    },
    {
      "cell_type": "markdown",
      "source": [
        "# Test Code"
      ],
      "metadata": {
        "id": "JObkuUYH0ATB"
      }
    },
    {
      "cell_type": "code",
      "source": [
        "testData = {'col1': [1, 2], 'col2': [3, 4], 'class': ['yes', 'no']}\n",
        "testFrame = pd.DataFrame(data=testData)\n",
        "\n",
        "for i in range(len(testFrame)):\n",
        "    row = testFrame.iloc[i]\n",
        "    print(f\"{row}\\n\")"
      ],
      "metadata": {
        "colab": {
          "base_uri": "https://localhost:8080/"
        },
        "id": "9wQR5HQY0BkY",
        "outputId": "1a74f76d-14f2-4a38-e74c-0f38b44b4585"
      },
      "execution_count": null,
      "outputs": [
        {
          "output_type": "stream",
          "name": "stdout",
          "text": [
            "col1       1\n",
            "col2       3\n",
            "class    yes\n",
            "Name: 0, dtype: object\n",
            "\n",
            "col1      2\n",
            "col2      4\n",
            "class    no\n",
            "Name: 1, dtype: object\n",
            "\n"
          ]
        }
      ]
    }
  ]
}