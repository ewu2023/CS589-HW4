{
  "nbformat": 4,
  "nbformat_minor": 0,
  "metadata": {
    "colab": {
      "provenance": [],
      "authorship_tag": "ABX9TyPgzm01yJ0yDPGXbWuIxsgg",
      "include_colab_link": true
    },
    "kernelspec": {
      "name": "python3",
      "display_name": "Python 3"
    },
    "language_info": {
      "name": "python"
    }
  },
  "cells": [
    {
      "cell_type": "markdown",
      "metadata": {
        "id": "view-in-github",
        "colab_type": "text"
      },
      "source": [
        "<a href=\"https://colab.research.google.com/github/ewu2023/CS589-HW4/blob/main/CS589_NeuralNets.ipynb\" target=\"_parent\"><img src=\"https://colab.research.google.com/assets/colab-badge.svg\" alt=\"Open In Colab\"/></a>"
      ]
    },
    {
      "cell_type": "markdown",
      "source": [
        "# Import Packages"
      ],
      "metadata": {
        "id": "7B-JBg83M1ok"
      }
    },
    {
      "cell_type": "code",
      "execution_count": 9,
      "metadata": {
        "id": "WsRlxN3fLmfw"
      },
      "outputs": [],
      "source": [
        "import numpy as np\n",
        "import pandas as pd\n",
        "from scipy.stats import norm"
      ]
    },
    {
      "cell_type": "markdown",
      "source": [
        "# Define Neural Network Class"
      ],
      "metadata": {
        "id": "nOW3NjBRNpsU"
      }
    },
    {
      "cell_type": "code",
      "source": [
        "class NeuralNetwork():\n",
        "    def __init__(self, networkShape, trainData: pd.DataFrame, weights=None):\n",
        "        \"\"\"\n",
        "        Constructor for the neural network class.\n",
        "        \n",
        "        networkShape: A list of integers that contains the number of neurons to use in each layer\n",
        "\n",
        "        trainData: The data set that will be used to train the model\n",
        "\n",
        "        weights: A list of weight matrices for each hidden layer. If initialized to None, the constructor will assign random weights\n",
        "        \"\"\"\n",
        "        self.trainData = trainData\n",
        "\n",
        "        # Get a copy of the training data without the labels\n",
        "        self.noLabelTrainData = trainData.loc[:, trainData.columns!='class']\n",
        "\n",
        "        # Instance variable storing weight matrices\n",
        "        self.layers = []\n",
        "        \n",
        "        # Initialize layers\n",
        "        for i in range(len(networkShape) - 1):\n",
        "            # Get the number of neurons in the current and next layers\n",
        "            numCurLayer = networkShape[i] + 1 # Account for neurons + bias term in current layer\n",
        "            numNextLayer = networkShape[i + 1]\n",
        "\n",
        "            # Initialize matrix for the current layer\n",
        "            # Number of rows = number of neurons in layer i + 1\n",
        "            # Number of columns = number of neurons in layer i\n",
        "            layerMatrix = np.zeros(shape=(numNextLayer, numCurLayer))\n",
        "            if weights:\n",
        "                layerMatrix = weights[i]\n",
        "            else:\n",
        "                self._init_matrix(layerMatrix)\n",
        "            \n",
        "            # Append current layer to the list of layers\n",
        "            self.layers.append(layerMatrix)\n",
        "        \n",
        "    def _init_matrix(self, matrix: np.ndarray):\n",
        "        rows, cols = matrix.shape\n",
        "        for i in range(rows):\n",
        "            for j in range(cols):\n",
        "                matrix[i, j] = norm.rvs()\n",
        "    \n",
        "    # Definition for the sigmoid function\n",
        "    def sigmoid(self, x):\n",
        "        return (1 / (1 + np.exp(-x)))\n",
        "    \n",
        "    # Compute activation vector\n",
        "    def compute_activation_vector(self, weightedSums: np.ndarray):\n",
        "        numRows, numCols = weightedSums.shape\n",
        "        activationVector = np.zeros(shape=(numRows, numCols))\n",
        "\n",
        "        for i in range(numRows):\n",
        "            # Get weighted sum from i-th row\n",
        "            x = weightedSums[i, 0]\n",
        "\n",
        "            # Compute output of sigmoid function and place it in activation vector\n",
        "            activationVector[i, 0] = self.sigmoid(x)\n",
        "        \n",
        "        return activationVector\n",
        "    \n",
        "    # Method for propagating forward one instance\n",
        "    def propagate_one(self, instance):\n",
        "        # Add a bias term to the instance\n",
        "        instanceAsNP = instance.to_numpy()\n",
        "        instanceVector = np.concatenate(([1], instanceAsNP))\n",
        "        \n",
        "        # Make instance vector a column vector\n",
        "        instanceVector = np.atleast_2d(instanceVector).T\n",
        "        \n",
        "        # Iterate over each layer and compute activations for each neuron\n",
        "        prevActivation = instanceVector # Keep track of the activation vector for previous layer\n",
        "        for i in range(len(self.layers) - 1):\n",
        "            # Get current weight matrix\n",
        "            curTheta = self.layers[i]\n",
        "\n",
        "            # Compute weighted sum vector (z-matrix): Theta^{l=i-1} * a^{l=i-1}\n",
        "            z = np.matmul(curTheta, prevActivation)\n",
        "\n",
        "            # Compute activation vector of current layer\n",
        "            curActivationVec = self.compute_activation_vector(z)\n",
        "            \n",
        "            # Add bias term to current activation vector\n",
        "            curActivationVec = np.concatenate(([[1]], curActivationVec)) # Prepend 1 to vector\n",
        "\n",
        "            # Update previous activation vector\n",
        "            prevActivation = curActivationVec\n",
        "        \n",
        "        # Compute activation at the final layer\n",
        "        lastTheta = self.layers[len(self.layers) - 1]\n",
        "        lastZMat = np.matmul(lastTheta, prevActivation)\n",
        "        outputVector = self.compute_activation_vector(lastZMat)\n",
        "\n",
        "        return outputVector[0, 0] # Need to do this because output vector is a column vector\n",
        "\n"
      ],
      "metadata": {
        "id": "PlC7io6JNYw8"
      },
      "execution_count": 88,
      "outputs": []
    },
    {
      "cell_type": "markdown",
      "source": [
        "Test Neural Net"
      ],
      "metadata": {
        "id": "kxzyGtabHfub"
      }
    },
    {
      "cell_type": "code",
      "source": [
        "d = {\n",
        "    'x': [0.13000, 0.42000], \n",
        "    'class': [0.90000, 0.23000]\n",
        "}\n",
        "\n",
        "df = pd.DataFrame(data=d)\n",
        "df_noLabels = df.loc[:, df.columns!='class']\n",
        "\n",
        "networkShape = [1, 2, 1]\n",
        "weights = [\n",
        "    np.array(\n",
        "        [[0.40000, 0.10000],\n",
        "         [0.30000, 0.20000]],\n",
        "    ),\n",
        "\n",
        "    np.array([[0.70000, 0.50000, 0.60000]])\n",
        "]\n",
        "\n",
        "network = NeuralNetwork(networkShape, trainData=df, weights=weights)\n",
        "curInstance = df_noLabels.iloc[0]\n",
        "print(network.propagate_one(curInstance))"
      ],
      "metadata": {
        "colab": {
          "base_uri": "https://localhost:8080/"
        },
        "id": "8_y6PpYnHiGr",
        "outputId": "d1942fb5-b153-41ee-8e9c-ef56cd361614"
      },
      "execution_count": 89,
      "outputs": [
        {
          "output_type": "stream",
          "name": "stdout",
          "text": [
            "[[0.79402743]]\n"
          ]
        }
      ]
    },
    {
      "cell_type": "markdown",
      "source": [
        "# Test Code"
      ],
      "metadata": {
        "id": "JObkuUYH0ATB"
      }
    },
    {
      "cell_type": "code",
      "source": [
        "testData = {'col1': [1, 2], 'col2': [3, 4], 'class': ['yes', 'no']}\n",
        "testFrame = pd.DataFrame(data=testData)\n",
        "\n",
        "for i in range(len(testFrame)):\n",
        "    row = testFrame.iloc[i]\n",
        "    print(row)"
      ],
      "metadata": {
        "colab": {
          "base_uri": "https://localhost:8080/"
        },
        "id": "9wQR5HQY0BkY",
        "outputId": "c898e50c-7970-41e7-b899-7b6a72e00219"
      },
      "execution_count": 45,
      "outputs": [
        {
          "output_type": "stream",
          "name": "stdout",
          "text": [
            "col1       1\n",
            "col2       3\n",
            "class    yes\n",
            "Name: 0, dtype: object\n",
            "col1      2\n",
            "col2      4\n",
            "class    no\n",
            "Name: 1, dtype: object\n"
          ]
        }
      ]
    }
  ]
}